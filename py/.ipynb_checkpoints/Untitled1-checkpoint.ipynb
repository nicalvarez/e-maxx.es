{
 "metadata": {
  "name": "",
  "signature": "sha256:e3b6dad59c285463969f7a1bd43d6a82b2affdd5d89bb74cf87b732470f5d1fd"
 },
 "nbformat": 3,
 "nbformat_minor": 0,
 "worksheets": []
}