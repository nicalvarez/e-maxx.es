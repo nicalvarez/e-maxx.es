{
 "metadata": {
  "name": "",
  "signature": "sha256:d772eb77d6ba366f776efa852712d2ecc28f92a7bfbb0add0e37f51484b0c201"
 },
 "nbformat": 3,
 "nbformat_minor": 0,
 "worksheets": [
  {
   "cells": [
    {
     "cell_type": "code",
     "collapsed": false,
     "input": [
      "import urllib2"
     ],
     "language": "python",
     "metadata": {},
     "outputs": [],
     "prompt_number": 2
    },
    {
     "cell_type": "code",
     "collapsed": false,
     "input": [
      "API_KEY = 'trnsl.1.1.20141225T204719Z.8e615b9d341153fc.ebeace10a218f28481f27567536f6539fe930db7'\n",
      "URL = 'https://translate.yandex.net/api/v1.5/tr.json/translate?key=%s&lang=ru-es'\n",
      "print URL\n"
     ],
     "language": "python",
     "metadata": {},
     "outputs": [
      {
       "output_type": "stream",
       "stream": "stdout",
       "text": [
        "https://translate.yandex.net/api/v1.5/tr.json/translate?key=%s&lang=ru-es\n"
       ]
      }
     ],
     "prompt_number": 30
    },
    {
     "cell_type": "code",
     "collapsed": false,
     "input": [
      "f = open('../text/ru/algebra/big_integer.txt')\n",
      "lines = f.readlines()\n",
      "linea = lines[0].decode('string_escape')"
     ],
     "language": "python",
     "metadata": {},
     "outputs": [],
     "prompt_number": 11
    },
    {
     "cell_type": "code",
     "collapsed": false,
     "input": [
      "quoteada = urllib2.quote(linea)\n",
      "print linea"
     ],
     "language": "python",
     "metadata": {},
     "outputs": [
      {
       "output_type": "stream",
       "stream": "stdout",
       "text": [
        "\\h1{ \u0414\u043b\u0438\u043d\u043d\u0430\u044f \u0430\u0440\u0438\u0444\u043c\u0435\u0442\u0438\u043a\u0430 }\n",
        "\n"
       ]
      }
     ],
     "prompt_number": 25
    },
    {
     "cell_type": "raw",
     "metadata": {},
     "source": []
    },
    {
     "cell_type": "code",
     "collapsed": false,
     "input": [
      "URL += 'text'+quoteada"
     ],
     "language": "python",
     "metadata": {},
     "outputs": [],
     "prompt_number": 31
    },
    {
     "cell_type": "code",
     "collapsed": false,
     "input": [
      "URL"
     ],
     "language": "python",
     "metadata": {},
     "outputs": [
      {
       "metadata": {},
       "output_type": "pyout",
       "prompt_number": 34,
       "text": [
        "'https://translate.yandex.net/api/v1.5/tr.json/translate?key=%s&lang=ru-estext%5Ch1%7B%20%D0%94%D0%BB%D0%B8%D0%BD%D0%BD%D0%B0%D1%8F%20%D0%B0%D1%80%D0%B8%D1%84%D0%BC%D0%B5%D1%82%D0%B8%D0%BA%D0%B0%20%7D%0A'"
       ]
      }
     ],
     "prompt_number": 34
    },
    {
     "cell_type": "code",
     "collapsed": false,
     "input": [],
     "language": "python",
     "metadata": {},
     "outputs": []
    }
   ],
   "metadata": {}
  }
 ]
}